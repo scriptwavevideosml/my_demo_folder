{
 "cells": [
  {
   "cell_type": "markdown",
   "id": "f1b82f8e",
   "metadata": {},
   "source": [
    "# Bayesian Network Example: Disease, Fever, Cough"
   ]
  },
  {
   "cell_type": "markdown",
   "id": "59c064f1",
   "metadata": {},
   "source": [
    "\n",
    "This notebook demonstrates how to **build and use a Bayesian Network** using the **pgmpy** library in Python.\n",
    "\n",
    "We will model a simple **medical diagnosis problem**:\n",
    "\n",
    "- Variables: `Disease`, `Fever`, `Cough`\n",
    "- Dependencies: `Disease → Fever`, `Disease → Cough`\n",
    "- Goal: Use **Bayesian Inference** to compute probabilities given evidence.\n"
   ]
  },
  {
   "cell_type": "code",
   "execution_count": null,
   "id": "6df1d384",
   "metadata": {},
   "outputs": [],
   "source": [
    "!pip install pgmpy"
   ]
  },
  {
   "cell_type": "code",
   "execution_count": null,
   "id": "38bed0cb",
   "metadata": {},
   "outputs": [],
   "source": [
    "\n",
    "from pgmpy.models import BayesianNetwork\n",
    "from pgmpy.factors.discrete import TabularCPD\n",
    "from pgmpy.inference import VariableElimination\n"
   ]
  },
  {
   "cell_type": "markdown",
   "id": "10c00534",
   "metadata": {},
   "source": [
    "## Step 1 & 2: Define the Bayesian Network structure"
   ]
  },
  {
   "cell_type": "code",
   "execution_count": null,
   "id": "39b1861e",
   "metadata": {},
   "outputs": [],
   "source": [
    "\n",
    "# Structure: Disease → Fever, Disease → Cough\n",
    "model = BayesianNetwork([('Disease', 'Fever'),\n",
    "                         ('Disease', 'Cough')])\n",
    "print(\"Model structure created successfully!\")\n"
   ]
  },
  {
   "cell_type": "markdown",
   "id": "f6017c2e",
   "metadata": {},
   "source": [
    "## Step 3: Define Conditional Probability Distributions (CPDs)"
   ]
  },
  {
   "cell_type": "code",
   "execution_count": null,
   "id": "4860c500",
   "metadata": {},
   "outputs": [],
   "source": [
    "\n",
    "# Prior probability for Disease\n",
    "cpd_disease = TabularCPD(variable='Disease',\n",
    "                         variable_card=2,  # 2 states: No(0), Yes(1)\n",
    "                         values=[[0.99],   # P(Disease=No)\n",
    "                                 [0.01]])  # P(Disease=Yes)\n",
    "\n",
    "# Fever depends on Disease\n",
    "cpd_fever = TabularCPD(variable='Fever',\n",
    "                       variable_card=2,\n",
    "                       values=[[0.2, 0.1],   # P(Fever=No | Disease=No/Yes)\n",
    "                               [0.8, 0.9]],  # P(Fever=Yes | Disease=No/Yes)\n",
    "                       evidence=['Disease'],\n",
    "                       evidence_card=[2])\n",
    "\n",
    "# Cough depends on Disease\n",
    "cpd_cough = TabularCPD(variable='Cough',\n",
    "                       variable_card=2,\n",
    "                       values=[[0.3, 0.2],   # P(Cough=No | Disease=No/Yes)\n",
    "                               [0.7, 0.8]],  # P(Cough=Yes | Disease=No/Yes)\n",
    "                       evidence=['Disease'],\n",
    "                       evidence_card=[2])\n",
    "\n",
    "# Add CPDs to model\n",
    "model.add_cpds(cpd_disease, cpd_fever, cpd_cough)\n",
    "print(\"CPDs added successfully!\")\n"
   ]
  },
  {
   "cell_type": "markdown",
   "id": "820281d9",
   "metadata": {},
   "source": [
    "## Step 4: Verify the Model"
   ]
  },
  {
   "cell_type": "code",
   "execution_count": null,
   "id": "474a9ae6",
   "metadata": {},
   "outputs": [],
   "source": [
    "print('Model check:', model.check_model())"
   ]
  },
  {
   "cell_type": "markdown",
   "id": "23ea083d",
   "metadata": {},
   "source": [
    "## Step 5: Perform Inference"
   ]
  },
  {
   "cell_type": "code",
   "execution_count": null,
   "id": "e2e16213",
   "metadata": {},
   "outputs": [],
   "source": [
    "\n",
    "inference = VariableElimination(model)\n",
    "\n",
    "# Predictive Inference: P(Fever | Disease=Yes)\n",
    "print(\"P(Fever | Disease=Yes):\")\n",
    "print(inference.query(variables=['Fever'], evidence={'Disease': 1}))\n",
    "\n",
    "# Diagnostic Inference: P(Disease | Fever=Yes, Cough=Yes)\n",
    "print(\"\\nP(Disease | Fever=Yes, Cough=Yes):\")\n",
    "print(inference.query(variables=['Disease'], evidence={'Fever': 1, 'Cough': 1}))\n"
   ]
  }
 ],
 "metadata": {},
 "nbformat": 4,
 "nbformat_minor": 5
}
